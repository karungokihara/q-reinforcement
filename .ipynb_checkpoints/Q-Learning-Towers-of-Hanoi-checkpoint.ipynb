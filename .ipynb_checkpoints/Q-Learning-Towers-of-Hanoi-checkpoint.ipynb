{
 "cells": [
  {
   "cell_type": "markdown",
   "metadata": {},
   "source": [
    "# Reinforcement Learning Solution to the Towers of Hanoi Puzzle"
   ]
  },
  {
   "cell_type": "markdown",
   "metadata": {},
   "source": [
    "### Vignesh M. Pagadala"
   ]
  },
  {
   "cell_type": "markdown",
   "metadata": {},
   "source": [
    "## Summary\n",
    "In this Notebook, we shall try to solve the 3-peg, 3-disk, Towers of Hanoi puzzle using Reinforcement Learning. To do this, we implement the following functions:\n",
    "1. printState\n",
    "2. validMoves\n",
    "3. makeMove\n",
    "4. trainQ\n",
    "5. testQ\n",
    "6. stateMoveTuple\n",
    "7. isGoalState\n",
    "8. epsilonGreedy"
   ]
  },
  {
   "cell_type": "markdown",
   "metadata": {},
   "source": [
    "## Reinforcement Learning - Overview\n",
    "In any AI problem, it is required of us to choose an action for which the result is optimal, i.e., we need to choose the best possible action from a set of actions. In order to do so, we need a value which can represent the future outcome of the state of the problem. Once we somehow obtain these values, a multi-step decision problem can be broken down into a single-step one (with multiple values associated with each action, it becomes possible to pick out the 'best' action, and get to the optimal solution state). \n",
    "For this, each (state, action) pair in the problem state-space can be associated with a 'value'. We define a 'reinforcement' as the step-cost to get from one state to another. The value for each (state, action) can be calculated as the sum of all the reinforcements down a certain path from that state till the goal state. \n",
    "\n",
    "The question arises now as to how we can synthesize these values. We do this by 'learning' from many example games/ problem-runs, from lots of tuples of the form (st,at,rt+1,st+1,at+1st,at,rt+1,st+1,at+1) (SARSA). We shall look into the implementation of this below."
   ]
  },
  {
   "cell_type": "markdown",
   "metadata": {},
   "source": [
    "## Implementation"
   ]
  },
  {
   "cell_type": "markdown",
   "metadata": {},
   "source": [
    "### 1. printState\n",
    "This function takes the state as a list and prints out the state of the Towers of Hanoi puzzle in a neat, readable format."
   ]
  },
  {
   "cell_type": "code",
   "execution_count": 118,
   "metadata": {},
   "outputs": [],
   "source": [
    "# Function to represent the state (of the pegs)\n",
    "from copy import deepcopy\n",
    "def printState(state):\n",
    "    if state == 'No goal found.':\n",
    "        return 'No goal found'\n",
    "    # Make copy of state\n",
    "    statenew = deepcopy(state)\n",
    "    # Iterate through statenew and insert blanks in any position without a peg.\n",
    "    for i in statenew:\n",
    "        if len(i) == 0:\n",
    "            i.insert(0, ' ')\n",
    "            i.insert(0, ' ')\n",
    "            i.insert(0, ' ')\n",
    "        elif len(i) == 1:\n",
    "            i.insert(0, ' ')\n",
    "            i.insert(0, ' ')\n",
    "        elif len(i) == 2:\n",
    "            i.insert(0, ' ')\n",
    "    # Loop through a transpose of 'state' and print out the values neatly.\n",
    "    for i in list(zip(*statenew)):\n",
    "        for j in i:\n",
    "            print(j, end=' ')\n",
    "        print()\n",
    "    print('-----')"
   ]
  },
  {
   "cell_type": "markdown",
   "metadata": {},
   "source": [
    "### 2. validMoves\n",
    "This function takes in the *state* list as a parameter and returns all the valid moves which can be done from that state. These moves are returned as a list of moves, where each move is represented as a list of two elements of the form [source_peg, destination_peg], which implies that, the topmost disk from source_peg is transferred to the topmost position of destination_peg."
   ]
  },
  {
   "cell_type": "code",
   "execution_count": 119,
   "metadata": {
    "collapsed": true
   },
   "outputs": [],
   "source": [
    "# Function which returns valid moves from a state, as a list.\n",
    "def validMoves(state):\n",
    "    # Initialize empty list to append valid moves to.\n",
    "    valid = []\n",
    "    # Loop through each peg.\n",
    "    for i in range(3):\n",
    "        # If peg is empty, ignore it and proceed to next peg.\n",
    "        if state[i] == []:\n",
    "            continue\n",
    "        # Loop through each peg again.\n",
    "        for j in range(3):\n",
    "            # If we're not comparing the same pegs.\n",
    "            if state[i] != state[j]:\n",
    "                # Check if j is empty. If yes, then insert [i,j].\n",
    "                if len(state[j]) == 0:\n",
    "                    valid.append([i+1,j+1])\n",
    "                # Else, check if disc in peg j is greater than disc in peg i. If yes, then insert.\n",
    "                else:\n",
    "                    if state[j][0] > state[i][0]:\n",
    "                        valid.append([i+1,j+1])\n",
    "    return valid"
   ]
  },
  {
   "cell_type": "markdown",
   "metadata": {},
   "source": [
    "### 3. makeMove\n",
    "This function takes two parameters, *state* and *move*, which are lists which represent the state of the puzzle and a move. It then applies the specifed move onto *state* and returns the new state which we get after this operation. "
   ]
  },
  {
   "cell_type": "code",
   "execution_count": 120,
   "metadata": {
    "collapsed": true
   },
   "outputs": [],
   "source": [
    "# Function to apply a move to a state and return the new state.\n",
    "def makeMove(state, move):\n",
    "    if move != None:\n",
    "        state2 = deepcopy(state)\n",
    "        # Get the pegs from and to which the moves are to be done.\n",
    "        source = move[0]\n",
    "        dest = move[1]\n",
    "        # Get the disk from source\n",
    "        disk = state2[source - 1][0]\n",
    "        # Remove from source\n",
    "        state2[source-1].remove(disk)\n",
    "        # Move disk to destination\n",
    "        state2[dest - 1].insert(0, disk)\n",
    "        return state2"
   ]
  },
  {
   "cell_type": "markdown",
   "metadata": {},
   "source": [
    "### 4. isGoalState\n",
    "Check whether the state specified is a goal state or not."
   ]
  },
  {
   "cell_type": "code",
   "execution_count": 121,
   "metadata": {
    "collapsed": true
   },
   "outputs": [],
   "source": [
    "# Function to check if the goal state has been reached.\n",
    "def isGoalState(state):\n",
    "    if state == [[], [], [1,2,3]]:\n",
    "        return True\n",
    "    else:\n",
    "        return False"
   ]
  },
  {
   "cell_type": "markdown",
   "metadata": {},
   "source": [
    "### 5. stateMoveTuple\n",
    "Implemented for the purpose of converting a list of lists to tuple of tuples. Enables us to make use of (state, action) pairs as keys in the Q dictionary."
   ]
  },
  {
   "cell_type": "code",
   "execution_count": 122,
   "metadata": {
    "collapsed": true
   },
   "outputs": [],
   "source": [
    "# Function which converts lists to tuples.\n",
    "def stateMoveTuple(state, move):\n",
    "    stateTuple = tuple(tuple(x) for x in state)\n",
    "    moveTuple = tuple(move)\n",
    "    stateMoveTuple = (stateTuple, moveTuple)\n",
    "    return stateMoveTuple"
   ]
  },
  {
   "cell_type": "markdown",
   "metadata": {},
   "source": [
    "### 6. epsilonGreedy\n",
    "This function is used to enable the algorithm to slowly transition from choosing totally random actions to a more directed approach where, the action which is considered to be the best move from that state is taken. For doing this, a parameter *epsilon* is decayed gradually from 1. "
   ]
  },
  {
   "cell_type": "code",
   "execution_count": 123,
   "metadata": {
    "collapsed": true
   },
   "outputs": [],
   "source": [
    "import random\n",
    "# Epsilon Greedy\n",
    "def epsilonGreedy(epsilon, Q, state):\n",
    "    # Get all the valid moves from state.\n",
    "    valid = validMoves(state)\n",
    "    qlist = []\n",
    "    # If choosing random action.\n",
    "    if np.random.uniform() < epsilon:\n",
    "        # Random Move\n",
    "        return random.choice(valid)\n",
    "    # Greedy approach.\n",
    "    else:\n",
    "        # Greedy Move - get action for which the Q value is maximum.\n",
    "        # Get Q values for all (state, move) pairs and store in a list.\n",
    "        for move in valid:\n",
    "            smt = stateMoveTuple(state, move)\n",
    "            Qval = Q.get(smt, -1) # Assign -1 if not in tuple (default Q value)\n",
    "            qlist.append((Qval, move))\n",
    "        # Choose move with maximum value of Q.\n",
    "        maxMove = max(qlist, key=lambda x:x[0])\n",
    "        return maxMove[1]"
   ]
  },
  {
   "cell_type": "markdown",
   "metadata": {},
   "source": [
    "## 7. trainQ\n",
    "This function is used to update the Q values of various (state, action) pairs in the Q table with temporal-difference updates, by playing numerous games. It takes in the following parameters:\n",
    "1. nRepetitions: The number of games to play.\n",
    "2. learningRate: Determines the level to which a new update overrides an older one.\n",
    "3. epsilonDecayFactor: The parameter based on which epsilon is decayed.\n",
    "4. validMovesF: Function which returns all valid moves from a state.\n",
    "5. makeMoveF: Function which applies a given move onto a given state.\n",
    "\n",
    "Initially the default value of each (state, action) tuple in the Q table is considered to be -1. Games are played *nRepetitions* times by this function, each time the Q table being updated. After all games are played, the  Q dictionary and the number of steps taken to reach the goal for each game is returned.\n",
    "\n",
    "In this implementation, we use temporal-difference updates to update the Q values. This is done as follows:\n",
    "1. We have $s_t$, $a_t$, $r_{t+1}$, $s_{t+1}$, and $a_{t+1}$. How do we use these to update the values?\n",
    "2. The Q value for $s_t$ and $a_t$ are updated using the temporal difference error <br>\n",
    "Q(s_t,a_t) = Q(s_t,a_t) + \\rho (r_{t+1} + Q(s_{t+1},a_{t+1}) - Q(s_t,a_t))\n",
    "3. The final goal step should be updated differently. Here, since we know that the final step will always lead to the goal, we can do \n",
    "Q(s_t,a_t) = -1\n",
    "4. If the goal is reached, we do 3 and start once again from the start state.\n",
    "5. If goal hasn't been reached, then we choose an action using the epsilonGreedy function and get to a new state using this action (after updating Q)."
   ]
  },
  {
   "cell_type": "code",
   "execution_count": 124,
   "metadata": {},
   "outputs": [],
   "source": [
    "# Function for training Q for Towers of Hanoi puzzle.\n",
    "\n",
    "import numpy as np\n",
    "def trainQ(nRepetitions, learningRate, epsilonDecayFactor, validMovesF, makeMoveF):\n",
    "    # Initialize epsilon to 1, since we'll be decayign from 1.\n",
    "    epsilon = 1.0\n",
    "    # Initialize empty dictionary for the Q table. The Q table will be a dictionary with the as a tuple of the form:\n",
    "    # (state, move). 'state' will be a tuple of tuples representing the state of the puzzle. For eg. ((1,2,3),(),())\n",
    "    # would imply that all three disks are in the first peg. 'move' will be tuple with two elements, the source peg, and\n",
    "    # the destination peg of the form (source, destination).\n",
    "    Q = {}\n",
    "    # List to keep track of steps taken to reach goal for each game played.\n",
    "    stepsToGoal = []\n",
    "    # Itearate nRepetitions times, to play as many games.\n",
    "    for nGames in range(nRepetitions):\n",
    "        # Decay epsilon to slowly change behaviour such that it stops selecting random moves and goes for a more greedy\n",
    "        # approach. \n",
    "        epsilon *= epsilonDecayFactor\n",
    "        # Initialize the start state (check if 3-disk puzzle or 4-disk)\n",
    "        s = [[1,2,3], [], []]\n",
    "        done = False\n",
    "        step = 0\n",
    "        # Play a game till solution occurs.\n",
    "        while not done:        \n",
    "            step += 1\n",
    "            # Choose a move using epsilonGreedy function.\n",
    "            move = epsilonGreedy(epsilon, Q, s)\n",
    "            # Apply the move on a copy of state.\n",
    "            sNew = deepcopy(s)\n",
    "            sNew = makeMoveF(sNew, move)\n",
    "            # If this (state, move) is not yet updated in the Q table, the default value is -1.\n",
    "            if stateMoveTuple(s, move) not in Q:\n",
    "                Q[stateMoveTuple(s, move)] = -1 \n",
    "            # If the goal state is reached, then update Q(s, move) = -1 and break game (inner loop).\n",
    "            if isGoalState(sNew):\n",
    "                Q[stateMoveTuple(s, move)] = -1\n",
    "                done = True\n",
    "            else:\n",
    "                # If the current step isn't the first step, then update Q value. \n",
    "                if step > 1:\n",
    "                    Q[stateMoveTuple(sOld,moveOld)] += learningRate * (-1 + Q[stateMoveTuple(s,move)] - Q[stateMoveTuple(sOld,moveOld)])\n",
    "                # Update the current state and move to these variables so that we can use them in the next iteration.\n",
    "                sOld, moveOld = s, move \n",
    "                # Update state to the new state, which we have obtained by performing the move.\n",
    "                s = sNew\n",
    "        # Append the number of steps taken to stepsToGoal list.\n",
    "        stepsToGoal.append(step)\n",
    "    return Q, stepsToGoal"
   ]
  },
  {
   "cell_type": "markdown",
   "metadata": {},
   "source": [
    "## 8. testQ\n",
    "The testQ function uses the updated Q table to find the most optimal solution path from the start state to the goal. The following parameters are used:\n",
    "1. Q: The Q table which is represented as a dictionary.\n",
    "2. maxSteps: The maximum number of steps to take to finish the game.\n",
    "3. validMovesF: A function which takes in a state and returns all the valid moves from that state.\n",
    "4. makeMoveF: This function takes a state and a move and applies the specified move onto the state, and returns the new state.\n",
    "\n",
    "It returns the final solution path to get to the goal.\n",
    "\n",
    "It starts off from the initial state of the Towers of Hanoi, with all disks on the first peg. Then, it looks up the Q table (which has been updated already) for the moves from this state, and selects the move with the maximum Q value (which is the most optimal move). This move is then applied on the state to get to a new state and this process is repeated till we get to the goal. The final path returned is correct and optimal."
   ]
  },
  {
   "cell_type": "code",
   "execution_count": 125,
   "metadata": {
    "collapsed": true
   },
   "outputs": [],
   "source": [
    "# Function testQ - used to find the optimal path.\n",
    "def testQ(Q, maxSteps, validMovesF, makeMoveF):\n",
    "    path = []\n",
    "    # Initialize the start state with all disks on peg 1 (if 4-disk puzzle, then 4).\n",
    "    s = [[1,2,3], [], []]\n",
    "    # Append this start state to path list.\n",
    "    path.append(s)\n",
    "    steps = 0\n",
    "    # Maintain a variable 'flag' to check if goal has been reached.\n",
    "    flag = 0\n",
    "    # Loop till maximu number of steps allowed.\n",
    "    while steps < maxSteps:        \n",
    "        # Choose greedy move (epsilonGreedy will always select the greedy move here since epsilon is specified as -1).\n",
    "        move = epsilonGreedy(-1, Q, s)\n",
    "        # Apply the move on the state.\n",
    "        s = makeMoveF(s, move)\n",
    "        # Append to path list.\n",
    "        path.append(s)\n",
    "        # If the goal state is reached, break out.\n",
    "        if isGoalState(s):\n",
    "            flag = 1\n",
    "            break\n",
    "        steps += 1\n",
    "    # If no goal found within steps specified.\n",
    "    if flag == 0:\n",
    "        return \"No goal found.\"\n",
    "    return path"
   ]
  },
  {
   "cell_type": "markdown",
   "metadata": {},
   "source": [
    "# Examples"
   ]
  },
  {
   "cell_type": "code",
   "execution_count": 126,
   "metadata": {},
   "outputs": [
    {
     "name": "stdout",
     "output_type": "stream",
     "text": [
      "1     \n",
      "2     \n",
      "3     \n",
      "-----\n"
     ]
    }
   ],
   "source": [
    "state = [[1, 2, 3], [], []]\n",
    "printState(state)"
   ]
  },
  {
   "cell_type": "code",
   "execution_count": 127,
   "metadata": {},
   "outputs": [
    {
     "data": {
      "text/plain": [
       "(((1, 2, 3), (), ()), (1, 2))"
      ]
     },
     "execution_count": 127,
     "metadata": {},
     "output_type": "execute_result"
    }
   ],
   "source": [
    "move =[1, 2]\n",
    "\n",
    "stateMoveTuple(state, move)"
   ]
  },
  {
   "cell_type": "code",
   "execution_count": 128,
   "metadata": {},
   "outputs": [
    {
     "data": {
      "text/plain": [
       "[[2, 3], [1], []]"
      ]
     },
     "execution_count": 128,
     "metadata": {},
     "output_type": "execute_result"
    }
   ],
   "source": [
    "newstate = makeMove(state, move)\n",
    "newstate"
   ]
  },
  {
   "cell_type": "code",
   "execution_count": 129,
   "metadata": {},
   "outputs": [
    {
     "name": "stdout",
     "output_type": "stream",
     "text": [
      "      \n",
      "2     \n",
      "3 1   \n",
      "-----\n"
     ]
    }
   ],
   "source": [
    "printState(newstate)"
   ]
  },
  {
   "cell_type": "code",
   "execution_count": 130,
   "metadata": {
    "collapsed": true
   },
   "outputs": [],
   "source": [
    "Q, stepsToGoal = trainQ(50, 0.5, 0.7, validMoves, makeMove)"
   ]
  },
  {
   "cell_type": "code",
   "execution_count": 131,
   "metadata": {},
   "outputs": [
    {
     "name": "stdout",
     "output_type": "stream",
     "text": [
      "[110, 34, 108, 23, 12, 44, 13, 11, 28, 15, 30, 7, 10, 12, 14, 8, 9, 30, 7, 11, 10, 7, 10, 30, 7, 7, 7, 7, 7, 7, 7, 7, 7, 7, 7, 7, 7, 7, 7, 7, 7, 7, 7, 7, 7, 7, 7, 7, 7, 7]\n"
     ]
    }
   ],
   "source": [
    "print(stepsToGoal)"
   ]
  },
  {
   "cell_type": "markdown",
   "metadata": {},
   "source": [
    "Let's plot this."
   ]
  },
  {
   "cell_type": "code",
   "execution_count": 132,
   "metadata": {},
   "outputs": [
    {
     "data": {
      "image/png": "[encoded data removed]",
      "text/plain": [
       "<matplotlib.figure.Figure at 0x17f7ff0>"
      ]
     },
     "metadata": {},
     "output_type": "display_data"
    }
   ],
   "source": [
    "import matplotlib.pyplot as plt\n",
    "plt.plot(stepsToGoal)\n",
    "plt.show()"
   ]
  },
  {
   "cell_type": "code",
   "execution_count": 133,
   "metadata": {},
   "outputs": [],
   "source": [
    "path = testQ(Q, 20, validMoves, makeMove)"
   ]
  },
  {
   "cell_type": "code",
   "execution_count": 134,
   "metadata": {},
   "outputs": [
    {
     "data": {
      "text/plain": [
       "[[[1, 2, 3], [], []],\n",
       " [[2, 3], [], [1]],\n",
       " [[3], [2], [1]],\n",
       " [[3], [1, 2], []],\n",
       " [[], [1, 2], [3]],\n",
       " [[1], [2], [3]],\n",
       " [[1], [], [2, 3]],\n",
       " [[], [], [1, 2, 3]]]"
      ]
     },
     "execution_count": 134,
     "metadata": {},
     "output_type": "execute_result"
    }
   ],
   "source": [
    "path"
   ]
  },
  {
   "cell_type": "code",
   "execution_count": 135,
   "metadata": {
    "scrolled": true
   },
   "outputs": [
    {
     "name": "stdout",
     "output_type": "stream",
     "text": [
      "1     \n",
      "2     \n",
      "3     \n",
      "-----\n",
      "\n",
      "      \n",
      "2     \n",
      "3   1 \n",
      "-----\n",
      "\n",
      "      \n",
      "      \n",
      "3 2 1 \n",
      "-----\n",
      "\n",
      "      \n",
      "  1   \n",
      "3 2   \n",
      "-----\n",
      "\n",
      "      \n",
      "  1   \n",
      "  2 3 \n",
      "-----\n",
      "\n",
      "      \n",
      "      \n",
      "1 2 3 \n",
      "-----\n",
      "\n",
      "      \n",
      "    2 \n",
      "1   3 \n",
      "-----\n",
      "\n",
      "    1 \n",
      "    2 \n",
      "    3 \n",
      "-----\n",
      "\n"
     ]
    }
   ],
   "source": [
    "for s in path:\n",
    "    printState(s)\n",
    "    print()"
   ]
  },
  {
   "cell_type": "markdown",
   "metadata": {},
   "source": [
    "## More Examples"
   ]
  },
  {
   "cell_type": "code",
   "execution_count": 206,
   "metadata": {
    "collapsed": true
   },
   "outputs": [],
   "source": [
    "Q, stepsToGoal = trainQ(100, 0.1, 0.7, validMoves, makeMove)"
   ]
  },
  {
   "cell_type": "code",
   "execution_count": 207,
   "metadata": {},
   "outputs": [
    {
     "name": "stdout",
     "output_type": "stream",
     "text": [
      "[145, 106, 97, 47, 85, 52, 86, 23, 19, 86, 21, 12, 83, 33, 18, 27, 53, 18, 49, 18, 17, 24, 41, 16, 27, 12, 40, 16, 26, 47, 14, 38, 10, 21, 17, 15, 28, 16, 33, 9, 19, 13, 9, 14, 54, 16, 24, 8, 7, 11, 9, 23, 21, 9, 11, 32, 8, 9, 27, 17, 11, 10, 14, 10, 10, 7, 15, 7, 18, 46, 13, 7, 9, 8, 22, 9, 7, 12, 9, 10, 10, 10, 7, 9, 7, 36, 22, 8, 7, 7, 11, 7, 21, 7, 7, 9, 9, 30, 7, 7]\n"
     ]
    }
   ],
   "source": [
    "print(stepsToGoal)"
   ]
  },
  {
   "cell_type": "code",
   "execution_count": 208,
   "metadata": {},
   "outputs": [
    {
     "data": {
      "image/png": "[encoded data removed]",
      "text/plain": [
       "<matplotlib.figure.Figure at 0x17c7150>"
      ]
     },
     "metadata": {},
     "output_type": "display_data"
    }
   ],
   "source": [
    "plt.plot(stepsToGoal)\n",
    "plt.show()"
   ]
  },
  {
   "cell_type": "code",
   "execution_count": 209,
   "metadata": {
    "collapsed": true
   },
   "outputs": [],
   "source": [
    "p = testQ(Q, 20, validMoves, makeMove)"
   ]
  },
  {
   "cell_type": "code",
   "execution_count": 210,
   "metadata": {
    "scrolled": true
   },
   "outputs": [
    {
     "name": "stdout",
     "output_type": "stream",
     "text": [
      "1     \n",
      "2     \n",
      "3     \n",
      "-----\n",
      "      \n",
      "2     \n",
      "3 1   \n",
      "-----\n",
      "      \n",
      "2     \n",
      "3   1 \n",
      "-----\n",
      "      \n",
      "      \n",
      "3 2 1 \n",
      "-----\n",
      "      \n",
      "  1   \n",
      "3 2   \n",
      "-----\n",
      "      \n",
      "  1   \n",
      "  2 3 \n",
      "-----\n",
      "      \n",
      "      \n",
      "1 2 3 \n",
      "-----\n",
      "      \n",
      "    2 \n",
      "1   3 \n",
      "-----\n",
      "    1 \n",
      "    2 \n",
      "    3 \n",
      "-----\n"
     ]
    }
   ],
   "source": [
    "for s in p:\n",
    "    printState(s)"
   ]
  },
  {
   "cell_type": "markdown",
   "metadata": {},
   "source": [
    "Let's encourage more random move-selections by using epsilon decay factor = 1 "
   ]
  },
  {
   "cell_type": "code",
   "execution_count": 211,
   "metadata": {
    "collapsed": true
   },
   "outputs": [],
   "source": [
    "Q, stepsToGoal = trainQ(100, 0.5, 1, validMoves, makeMove)"
   ]
  },
  {
   "cell_type": "code",
   "execution_count": 212,
   "metadata": {},
   "outputs": [
    {
     "name": "stdout",
     "output_type": "stream",
     "text": [
      "[16, 37, 59, 23, 206, 72, 250, 29, 47, 15, 87, 144, 474, 15, 40, 26, 94, 146, 21, 236, 162, 27, 264, 82, 169, 128, 46, 30, 13, 40, 24, 55, 48, 101, 59, 176, 112, 73, 396, 37, 80, 203, 252, 119, 292, 68, 163, 110, 83, 49, 87, 67, 64, 18, 42, 264, 51, 388, 121, 53, 106, 314, 34, 792, 82, 80, 47, 15, 89, 323, 106, 211, 499, 57, 48, 82, 72, 46, 239, 61, 13, 316, 163, 636, 16, 361, 17, 144, 195, 307, 47, 211, 9, 311, 78, 17, 159, 66, 87, 31]\n"
     ]
    }
   ],
   "source": [
    "print(stepsToGoal)"
   ]
  },
  {
   "cell_type": "code",
   "execution_count": 213,
   "metadata": {},
   "outputs": [
    {
     "data": {
      "image/png": "[encoded data removed]",
      "text/plain": [
       "<matplotlib.figure.Figure at 0x18c5c70>"
      ]
     },
     "metadata": {},
     "output_type": "display_data"
    }
   ],
   "source": [
    "plt.plot(stepsToGoal)\n",
    "plt.show()"
   ]
  },
  {
   "cell_type": "markdown",
   "metadata": {},
   "source": [
    "As expected, more randomness implies that the algorithms spends more moves searching. Now let's try a more greedy approach (with epsilon decay factor of 0)."
   ]
  },
  {
   "cell_type": "code",
   "execution_count": 214,
   "metadata": {
    "collapsed": true
   },
   "outputs": [],
   "source": [
    "Q, stepsToGoal = trainQ(100, 0.5, 0, validMoves, makeMove)"
   ]
  },
  {
   "cell_type": "code",
   "execution_count": 215,
   "metadata": {},
   "outputs": [
    {
     "name": "stdout",
     "output_type": "stream",
     "text": [
      "[66, 43, 75, 30, 52, 26, 45, 24, 15, 26, 12, 21, 7, 36, 7, 10, 7, 9, 7, 41, 9, 10, 7, 7, 7, 7, 7, 7, 7, 7, 7, 7, 7, 7, 7, 7, 7, 7, 7, 7, 7, 7, 7, 7, 7, 7, 7, 7, 7, 7, 7, 7, 7, 7, 7, 7, 7, 7, 7, 7, 7, 7, 7, 7, 7, 7, 7, 7, 7, 8, 7, 7, 7, 7, 7, 7, 7, 7, 7, 7, 7, 7, 7, 7, 7, 7, 7, 7, 7, 7, 7, 7, 7, 7, 7, 7, 7, 7, 7, 7]\n"
     ]
    }
   ],
   "source": [
    "print(stepsToGoal)"
   ]
  },
  {
   "cell_type": "code",
   "execution_count": 216,
   "metadata": {},
   "outputs": [
    {
     "data": {
      "image/png": "[encoded data removed]",
      "text/plain": [
       "<matplotlib.figure.Figure at 0x188d730>"
      ]
     },
     "metadata": {},
     "output_type": "display_data"
    }
   ],
   "source": [
    "plt.plot(stepsToGoal)\n",
    "plt.show()"
   ]
  },
  {
   "cell_type": "markdown",
   "metadata": {},
   "source": [
    "It makes sense that there seem to be lesser number of moves on average. This is because, it tends to choose the most optimal move every time with a decay factor of 0."
   ]
  },
  {
   "cell_type": "markdown",
   "metadata": {},
   "source": [
    "## Grader Result"
   ]
  },
  {
   "cell_type": "code",
   "execution_count": 144,
   "metadata": {
    "scrolled": true
   },
   "outputs": [
    {
     "name": "stdout",
     "output_type": "stream",
     "text": [
      "\n",
      "Testing validMoves([[1], [2], [3]])\n",
      "\n",
      "--- 10/10 points. Correctly returned [[1, 2], [1, 3], [2, 3]]\n",
      "\n",
      "Testing validMoves([[], [], [1, 2, 3]])\n",
      "\n",
      "--- 10/10 points. Correctly returned [[3, 1], [3, 2]]\n",
      "\n",
      "Testing makeMove([[], [], [1, 2, 3]], [3, 2])\n",
      "\n",
      "--- 10/10 points. Correctly returned [[], [1], [2, 3]]\n",
      "\n",
      "Testing makeMove([[2], [3], [1]], [1, 2])\n",
      "\n",
      "--- 10/10 points. Correctly returned [[], [2, 3], [1]]\n",
      "\n",
      "Testing   Q, steps = trainQ(1000, 0.5, 0.7, validMoves, makeMove).\n",
      "\n",
      "--- 10/10 points. Q dictionary has correct number of entries.\n",
      "\n",
      "--- 10/10 points. The mean of the number of steps is 7.404 which is correct.\n",
      "\n",
      "Testing   path = testQ(Q, 20, validMoves, makeMove).\n",
      "\n",
      "--- 20/20 points. Correctly returns path of length 8, less than 10.\n",
      "\n",
      "C:\\Users\\Vignesh\\Documents\\Colorado State University\\Courses\\CS440 - Introduction to Artificial Intelligence - Chuck Anderson\\Assignments Execution Grade is 80/80\n",
      "\n",
      " Remaining 20 points will be based on your text describing the trainQ and test! functions.\n",
      "\n",
      "C:\\Users\\Vignesh\\Documents\\Colorado State University\\Courses\\CS440 - Introduction to Artificial Intelligence - Chuck Anderson\\Assignments FINAL GRADE is __/100\n"
     ]
    }
   ],
   "source": [
    "%run -i A5grader.py"
   ]
  },
  {
   "cell_type": "markdown",
   "metadata": {},
   "source": [
    "## Extra Credit Problem"
   ]
  },
  {
   "cell_type": "markdown",
   "metadata": {},
   "source": [
    "## Solving the 4-disk, 3-peg Tower of Hanoi."
   ]
  },
  {
   "cell_type": "markdown",
   "metadata": {},
   "source": [
    "To do this, we define the following functions. We tweak the functions used above a bit to get it to work for a 4-disk, 3-peg Tower of Hanoi.\n",
    "1. printState_4disk\n",
    "2. validMoves_4disk\n",
    "3. makeMove_4disk\n",
    "4. isGoalState_4disk\n",
    "5. epsilonGreedy_4disk\n",
    "6. trainQ_4disk\n",
    "7. testQ_4disk"
   ]
  },
  {
   "cell_type": "markdown",
   "metadata": {},
   "source": [
    "### 1. printState_4disk\n",
    "This function prints out the state in a readable format."
   ]
  },
  {
   "cell_type": "code",
   "execution_count": 145,
   "metadata": {
    "collapsed": true
   },
   "outputs": [],
   "source": [
    "# Function to represent the state (of the pegs)\n",
    "# state = [[1,2,3,4], [], []]\n",
    "from copy import deepcopy\n",
    "def printState_4disk(state):\n",
    "    if state == \"No goal found.\":\n",
    "        return \"No goal found.\"\n",
    "    statenew = deepcopy(state)\n",
    "    for i in statenew:\n",
    "        if len(i) == 0:\n",
    "            i.insert(0, ' ')\n",
    "            i.insert(0, ' ')\n",
    "            i.insert(0, ' ')\n",
    "            i.insert(0, ' ')\n",
    "        elif len(i) == 1:\n",
    "            i.insert(0, ' ')\n",
    "            i.insert(0, ' ')\n",
    "            i.insert(0, ' ')\n",
    "        elif len(i) == 2:\n",
    "            i.insert(0, ' ')\n",
    "            i.insert(0, ' ')\n",
    "        elif len(i) == 3:\n",
    "            i.insert(0, ' ')\n",
    "\n",
    "    for i in list(zip(*statenew)):\n",
    "        for j in i:\n",
    "            print(j, end=' ')\n",
    "        print()\n",
    "    print('-----')"
   ]
  },
  {
   "cell_type": "markdown",
   "metadata": {},
   "source": [
    "### 2. validMoves_4disk\n",
    "Takes in state and returns all possible moves from this state."
   ]
  },
  {
   "cell_type": "code",
   "execution_count": 146,
   "metadata": {
    "collapsed": true
   },
   "outputs": [],
   "source": [
    "# Function which returns valid moves from a state\n",
    "def validMoves_4disk(state):\n",
    "    valid = []\n",
    "    for i in range(3):\n",
    "        if state[i] == []:\n",
    "            continue\n",
    "        for j in range(3):\n",
    "            if state[i] != state[j]:\n",
    "                # Check if j is empty. If yes, then insert [i,j].\n",
    "                if len(state[j]) == 0:\n",
    "                    valid.append([i+1,j+1])\n",
    "                # Else, check if disc in peg j is greater than disc in peg i. If yes, then insert.\n",
    "                else:\n",
    "                    if state[j][0] > state[i][0]:\n",
    "                        valid.append([i+1,j+1])\n",
    "    return valid"
   ]
  },
  {
   "cell_type": "markdown",
   "metadata": {},
   "source": [
    "### 3. makeMove_4disk\n",
    "Takes in a state and an action and applies the action to the state. Returns the new state."
   ]
  },
  {
   "cell_type": "code",
   "execution_count": 147,
   "metadata": {
    "collapsed": true
   },
   "outputs": [],
   "source": [
    "# Function to apply a move to a state and return the new state.\n",
    "def makeMove_4disk(state, move):\n",
    "    if move != None:\n",
    "        state2 = deepcopy(state)\n",
    "        # Get the pegs from and to which the moves are to be done.\n",
    "        source = move[0]\n",
    "        dest = move[1]\n",
    "        # Get the disk from source\n",
    "        disk = state2[source - 1][0]\n",
    "        # Remove from source\n",
    "        state2[source-1].remove(disk)\n",
    "        # Move disk to destination\n",
    "        state2[dest - 1].insert(0, disk)\n",
    "        return state2"
   ]
  },
  {
   "cell_type": "markdown",
   "metadata": {},
   "source": [
    "### 4. isGoalState_4disk\n",
    "Checks if given state is the goal state."
   ]
  },
  {
   "cell_type": "code",
   "execution_count": 148,
   "metadata": {
    "collapsed": true
   },
   "outputs": [],
   "source": [
    "# Function to check if the goal state has been reached.\n",
    "def isGoalState_4disk(state):\n",
    "    if state == [[], [], [1,2,3,4]]:\n",
    "        return True\n",
    "    else:\n",
    "        return False"
   ]
  },
  {
   "cell_type": "markdown",
   "metadata": {},
   "source": [
    "### 5. epsilonGreedy_4disk\n",
    "Used to gradually change behaviour of algorithm from choosing rando moves to a greedy approach."
   ]
  },
  {
   "cell_type": "code",
   "execution_count": 149,
   "metadata": {
    "collapsed": true
   },
   "outputs": [],
   "source": [
    "# Epsilon Greedy\n",
    "def epsilonGreedy_4disk(epsilon, Q, state):\n",
    "    valid = validMoves_4disk(state)\n",
    "    qlist = []\n",
    "    if np.random.uniform() < epsilon:\n",
    "            return random.choice(valid)\n",
    "    else:\n",
    "        # Greedy Move - get action for which the Q value is maximum.\n",
    "        # Get Q values for all (state, move) pairs and store in a list.\n",
    "        for move in valid:\n",
    "            smt = stateMoveTuple(state, move)\n",
    "            Qval = Q.get(smt, -1)\n",
    "            qlist.append((Qval, move))\n",
    "        maxMove = max(qlist, key=lambda x:x[0])\n",
    "        return maxMove[1]"
   ]
  },
  {
   "cell_type": "markdown",
   "metadata": {},
   "source": [
    "### 6. trainQ_4disk\n",
    "Same as the trainQ function described above, but modified to solve the 4-disk puzzle."
   ]
  },
  {
   "cell_type": "code",
   "execution_count": 150,
   "metadata": {
    "collapsed": true
   },
   "outputs": [],
   "source": [
    "# Function for training Q for Towers of Hanoi.\n",
    "def trainQ_4disk(nRepetitions, learningRate, epsilonDecayFactor, validMovesF, makeMoveF):\n",
    "    epsilon = 1.0\n",
    "    Q = {}\n",
    "    stepsToGoal = []\n",
    "    for nGames in range(nRepetitions):\n",
    "        # Decay epsilon\n",
    "        epsilon *= epsilonDecayFactor\n",
    "\n",
    "        # Start state for ToH\n",
    "        s = [[1,2,3,4], [], []]\n",
    "\n",
    "        # Play a game till solution occurs for ToH.\n",
    "        done = False\n",
    "        step = 0\n",
    "        while not done:        \n",
    "            step += 1\n",
    "\n",
    "            # Choose a move.\n",
    "            move = epsilonGreedy_4disk(epsilon, Q, s)\n",
    "\n",
    "            # Apply the move on a copy of state.\n",
    "            sNew = deepcopy(s)\n",
    "            sNew = makeMoveF(sNew, move)\n",
    "\n",
    "            if stateMoveTuple(s, move) not in Q:\n",
    "                Q[stateMoveTuple(s, move)] = -1  # initial Q value for new board,move\n",
    "\n",
    "            # If the goal state is reached, then update Q(s, move) += rho*(0 - Q(s, move)) and break game (inner loop).\n",
    "\n",
    "            if isGoalState_4disk(sNew):\n",
    "                Q[stateMoveTuple(s, move)] = -1\n",
    "                done = True\n",
    "\n",
    "            else:\n",
    "                if step > 1:\n",
    "                    Q[stateMoveTuple(sOld,moveOld)] += learningRate * (-1 + Q[stateMoveTuple(s,move)] - Q[stateMoveTuple(sOld,moveOld)])\n",
    "                sOld, moveOld = s, move # remember board and move to Q(board,move) can be updated after next steps\n",
    "                s = sNew\n",
    "        stepsToGoal.append(step)\n",
    "\n",
    "    return Q, stepsToGoal"
   ]
  },
  {
   "cell_type": "markdown",
   "metadata": {},
   "source": [
    "### 7. testQ_4disk\n",
    "Uses the updated Q table and finds optimal solution path."
   ]
  },
  {
   "cell_type": "code",
   "execution_count": 151,
   "metadata": {
    "collapsed": true
   },
   "outputs": [],
   "source": [
    "def testQ_4disk(Q, maxSteps, validMovesF, makeMoveF):\n",
    "    path = []\n",
    "    s = [[1,2,3,4], [], []]\n",
    "    path.append(s)\n",
    "    print()\n",
    "    steps = 0\n",
    "    flag = 0\n",
    "    while steps < maxSteps:        \n",
    "        # Choose greedy move.\n",
    "        move = epsilonGreedy_4disk(-1, Q, s)\n",
    "\n",
    "        # Apply the move on the state.\n",
    "        s = makeMoveF(s, move)\n",
    "        path.append(s)\n",
    "\n",
    "        # If the goal state is reached.\n",
    "        if isGoalState_4disk(s):\n",
    "            flag = 1\n",
    "            break\n",
    "        steps += 1\n",
    "    if flag == 0:\n",
    "        return \"No goal found.\"\n",
    "    return path"
   ]
  },
  {
   "cell_type": "markdown",
   "metadata": {},
   "source": [
    "Now, let's try solving the 4-disk Tower of Hanoi using different values for number of repetitions, learning rate and epsilon decay factor."
   ]
  },
  {
   "cell_type": "markdown",
   "metadata": {},
   "source": [
    "Number of games: 100\n",
    "Learning rate: 0.5\n",
    "Epsilon decay: 0.7"
   ]
  },
  {
   "cell_type": "code",
   "execution_count": 152,
   "metadata": {},
   "outputs": [],
   "source": [
    "Q, steps = trainQ_4disk(100, 0.5, 0.7, validMoves_4disk, makeMove_4disk)"
   ]
  },
  {
   "cell_type": "code",
   "execution_count": 153,
   "metadata": {
    "scrolled": false
   },
   "outputs": [
    {
     "name": "stdout",
     "output_type": "stream",
     "text": [
      "\n"
     ]
    }
   ],
   "source": [
    "path = testQ_4disk(Q, 20, validMoves_4disk, makeMove_4disk)"
   ]
  },
  {
   "cell_type": "code",
   "execution_count": 154,
   "metadata": {},
   "outputs": [
    {
     "name": "stdout",
     "output_type": "stream",
     "text": [
      "[[[1, 2, 3, 4], [], []], [[2, 3, 4], [1], []], [[3, 4], [1], [2]], [[3, 4], [], [1, 2]], [[4], [3], [1, 2]], [[1, 4], [3], [2]], [[1, 4], [2, 3], []], [[4], [1, 2, 3], []], [[], [1, 2, 3], [4]], [[], [2, 3], [1, 4]], [[2], [3], [1, 4]], [[1, 2], [3], [4]], [[1, 2], [], [3, 4]], [[2], [1], [3, 4]], [[], [1], [2, 3, 4]], [[], [], [1, 2, 3, 4]]]\n"
     ]
    }
   ],
   "source": [
    "print(path)"
   ]
  },
  {
   "cell_type": "code",
   "execution_count": 166,
   "metadata": {},
   "outputs": [
    {
     "name": "stdout",
     "output_type": "stream",
     "text": [
      "[569, 294, 184, 61, 158, 37, 136, 197, 64, 132, 45, 61, 59, 157, 36, 109, 135, 15, 45, 42, 117, 51, 39, 21, 36, 128, 46, 23, 71, 36, 30, 43, 54, 63, 18, 27, 85, 115, 21, 27, 15, 17, 84, 17, 38, 25, 19, 19, 16, 24, 15, 72, 15, 15, 70, 18, 15, 16, 19, 32, 18, 15, 15, 15, 15, 15, 15, 16, 15, 15, 15, 15, 15, 15, 15, 15, 15, 15, 15, 15, 15, 15, 15, 15, 15, 15, 15, 15, 15, 15, 15, 15, 15, 15, 15, 15, 15, 15, 15, 15]\n"
     ]
    }
   ],
   "source": [
    "print(steps)"
   ]
  },
  {
   "cell_type": "code",
   "execution_count": 156,
   "metadata": {
    "scrolled": true
   },
   "outputs": [
    {
     "name": "stdout",
     "output_type": "stream",
     "text": [
      "1     \n",
      "2     \n",
      "3     \n",
      "4     \n",
      "-----\n",
      "      \n",
      "2     \n",
      "3     \n",
      "4 1   \n",
      "-----\n",
      "      \n",
      "      \n",
      "3     \n",
      "4 1 2 \n",
      "-----\n",
      "      \n",
      "      \n",
      "3   1 \n",
      "4   2 \n",
      "-----\n",
      "      \n",
      "      \n",
      "    1 \n",
      "4 3 2 \n",
      "-----\n",
      "      \n",
      "      \n",
      "1     \n",
      "4 3 2 \n",
      "-----\n",
      "      \n",
      "      \n",
      "1 2   \n",
      "4 3   \n",
      "-----\n",
      "      \n",
      "  1   \n",
      "  2   \n",
      "4 3   \n",
      "-----\n",
      "      \n",
      "  1   \n",
      "  2   \n",
      "  3 4 \n",
      "-----\n",
      "      \n",
      "      \n",
      "  2 1 \n",
      "  3 4 \n",
      "-----\n",
      "      \n",
      "      \n",
      "    1 \n",
      "2 3 4 \n",
      "-----\n",
      "      \n",
      "      \n",
      "1     \n",
      "2 3 4 \n",
      "-----\n",
      "      \n",
      "      \n",
      "1   3 \n",
      "2   4 \n",
      "-----\n",
      "      \n",
      "      \n",
      "    3 \n",
      "2 1 4 \n",
      "-----\n",
      "      \n",
      "    2 \n",
      "    3 \n",
      "  1 4 \n",
      "-----\n",
      "    1 \n",
      "    2 \n",
      "    3 \n",
      "    4 \n",
      "-----\n"
     ]
    }
   ],
   "source": [
    "for s in path:\n",
    "    printState_4disk(s)"
   ]
  },
  {
   "cell_type": "markdown",
   "metadata": {},
   "source": [
    "Number of games: 100\n",
    "Learning rate: 0.1\n",
    "Epsilon decay: 0.7"
   ]
  },
  {
   "cell_type": "code",
   "execution_count": 167,
   "metadata": {
    "collapsed": true
   },
   "outputs": [],
   "source": [
    "Q2, steps2 = trainQ_4disk(1000, 0.05, 0.7, validMoves_4disk, makeMove_4disk)"
   ]
  },
  {
   "cell_type": "code",
   "execution_count": 168,
   "metadata": {
    "scrolled": false
   },
   "outputs": [
    {
     "name": "stdout",
     "output_type": "stream",
     "text": [
      "\n"
     ]
    }
   ],
   "source": [
    "path = testQ_4disk(Q2, 20, validMoves_4disk, makeMove_4disk)"
   ]
  },
  {
   "cell_type": "code",
   "execution_count": 169,
   "metadata": {},
   "outputs": [
    {
     "name": "stdout",
     "output_type": "stream",
     "text": [
      "[[[1, 2, 3, 4], [], []], [[2, 3, 4], [1], []], [[3, 4], [1], [2]], [[3, 4], [], [1, 2]], [[4], [3], [1, 2]], [[1, 4], [3], [2]], [[1, 4], [2, 3], []], [[4], [1, 2, 3], []], [[], [1, 2, 3], [4]], [[], [2, 3], [1, 4]], [[2], [3], [1, 4]], [[1, 2], [3], [4]], [[1, 2], [], [3, 4]], [[2], [1], [3, 4]], [[], [1], [2, 3, 4]], [[], [], [1, 2, 3, 4]]]\n"
     ]
    }
   ],
   "source": [
    "print(path)"
   ]
  },
  {
   "cell_type": "code",
   "execution_count": 170,
   "metadata": {},
   "outputs": [
    {
     "name": "stdout",
     "output_type": "stream",
     "text": [
      "[229, 299, 572, 880, 301, 472, 255, 577, 88, 542, 160, 148, 585, 113, 254, 133, 497, 77, 84, 351, 195, 94, 224, 294, 91, 270, 164, 394, 179, 144, 147, 124, 54, 301, 112, 78, 350, 118, 133, 176, 103, 111, 88, 255, 91, 299, 144, 132, 57, 93, 75, 214, 197, 62, 130, 82, 201, 71, 176, 81, 53, 200, 62, 251, 80, 84, 116, 191, 61, 38, 91, 243, 86, 229, 26, 79, 176, 56, 77, 81, 60, 78, 294, 57, 104, 70, 92, 48, 69, 250, 64, 70, 66, 55, 194, 67, 97, 42, 206, 105, 60, 82, 67, 98, 51, 171, 66, 42, 65, 177, 39, 248, 24, 43, 61, 54, 72, 92, 43, 82, 131, 41, 141, 44, 129, 40, 62, 40, 83, 189, 63, 142, 27, 40, 86, 136, 33, 146, 39, 41, 37, 71, 65, 113, 22, 107, 34, 83, 114, 82, 54, 47, 125, 30, 112, 26, 89, 25, 28, 147, 63, 50, 184, 29, 64, 29, 84, 60, 37, 28, 141, 145, 39, 22, 46, 33, 40, 97, 72, 62, 22, 97, 28, 160, 43, 25, 69, 49, 73, 39, 29, 135, 55, 19, 136, 66, 29, 44, 27, 53, 33, 130, 41, 24, 181, 31, 46, 88, 17, 41, 110, 22, 40, 30, 49, 24, 135, 23, 74, 38, 26, 34, 57, 73, 23, 30, 112, 28, 21, 112, 119, 21, 62, 18, 70, 44, 46, 20, 20, 145, 43, 75, 28, 31, 37, 83, 21, 17, 40, 33, 179, 34, 43, 61, 25, 22, 27, 43, 41, 96, 26, 29, 87, 24, 54, 23, 36, 22, 27, 169, 25, 30, 16, 38, 88, 28, 25, 44, 85, 33, 73, 31, 19, 27, 34, 25, 66, 22, 142, 16, 30, 67, 33, 36, 92, 46, 22, 21, 23, 20, 54, 33, 28, 49, 88, 32, 40, 20, 27, 49, 23, 23, 24, 144, 32, 37, 22, 31, 18, 41, 31, 22, 65, 48, 22, 19, 35, 115, 27, 16, 72, 19, 30, 35, 16, 70, 20, 20, 46, 35, 78, 125, 15, 23, 26, 31, 21, 29, 16, 20, 78, 35, 26, 15, 34, 15, 18, 26, 55, 59, 25, 144, 21, 18, 31, 21, 18, 32, 23, 65, 19, 20, 19, 18, 97, 18, 25, 32, 22, 59, 20, 15, 20, 34, 93, 19, 19, 19, 23, 101, 17, 15, 34, 22, 19, 24, 27, 18, 44, 32, 52, 19, 17, 19, 23, 16, 26, 15, 101, 17, 27, 21, 17, 97, 20, 23, 18, 15, 43, 19, 23, 17, 26, 17, 15, 60, 66, 31, 22, 16, 15, 17, 33, 15, 95, 17, 32, 17, 15, 16, 49, 22, 19, 29, 18, 15, 20, 29, 15, 95, 21, 16, 15, 23, 16, 58, 15, 21, 15, 42, 23, 16, 17, 15, 16, 84, 26, 20, 15, 25, 38, 15, 17, 48, 21, 15, 15, 35, 15, 15, 21, 15, 18, 66, 16, 75, 20, 15, 18, 15, 16, 79, 15, 26, 16, 15, 15, 17, 19, 17, 17, 23, 19, 18, 15, 94, 25, 15, 15, 23, 15, 16, 20, 15, 17, 19, 15, 24, 15, 17, 17, 15, 15, 16, 53, 17, 60, 15, 15, 19, 15, 15, 15, 19, 15, 56, 89, 17, 16, 16, 15, 15, 17, 15, 15, 15, 33, 15, 15, 15, 16, 15, 15, 15, 50, 15, 17, 22, 15, 15, 18, 15, 15, 15, 43, 17, 15, 15, 15, 32, 15, 15, 15, 15, 16, 15, 15, 15, 15, 19, 15, 15, 15, 15, 15, 23, 15, 15, 15, 15, 15, 21, 15, 15, 15, 15, 81, 15, 15, 15, 16, 15, 15, 15, 17, 15, 15, 15, 15, 15, 15, 15, 16, 15, 15, 15, 15, 15, 15, 15, 15, 15, 15, 40, 15, 15, 17, 15, 15, 15, 15, 15, 15, 15, 15, 29, 15, 15, 15, 15, 15, 15, 15, 15, 15, 15, 15, 15, 15, 15, 15, 15, 15, 18, 15, 15, 15, 15, 15, 15, 15, 15, 15, 15, 15, 15, 15, 15, 15, 15, 15, 15, 15, 15, 15, 15, 15, 15, 15, 15, 15, 15, 15, 15, 15, 15, 15, 15, 15, 15, 15, 16, 15, 15, 15, 15, 15, 15, 15, 15, 15, 15, 15, 15, 15, 15, 15, 15, 15, 15, 15, 15, 15, 15, 15, 15, 15, 15, 15, 15, 15, 15, 15, 15, 15, 15, 15, 15, 15, 15, 15, 15, 15, 15, 15, 15, 15, 15, 15, 15, 15, 15, 15, 15, 15, 15, 15, 15, 15, 15, 15, 15, 15, 15, 15, 15, 15, 15, 15, 15, 15, 15, 15, 15, 15, 15, 15, 15, 15, 15, 15, 15, 15, 15, 15, 15, 15, 15, 15, 15, 15, 15, 15, 15, 15, 15, 15, 15, 15, 15, 15, 15, 15, 15, 15, 15, 15, 15, 15, 15, 15, 15, 15, 15, 15, 15, 15, 15, 15, 15, 15, 15, 15, 15, 15, 15, 15, 15, 15, 15, 15, 15, 15, 15, 15, 15, 15, 15, 15, 15, 15, 15, 15, 15, 15, 15, 15, 15, 15, 15, 15, 15, 15, 15, 15, 15, 15, 15, 15, 15, 15, 15, 15, 15, 15, 15, 15, 15, 15, 15, 15, 15, 15, 15, 15, 15, 15, 15, 15, 15, 15, 15, 15, 15, 15, 15, 15, 15, 15, 15, 15, 15, 15, 15, 15, 15, 15, 15, 15, 15, 15, 15, 15, 15, 15, 15, 15, 15, 15, 15, 15, 15, 15, 15, 15, 15, 15, 15, 15, 15, 15, 15, 15, 15, 15, 15, 15, 15, 15, 15, 15, 15, 15, 15, 15, 15, 15, 15, 15, 15, 15, 15, 15, 15, 15, 15, 15, 15, 15, 15, 15, 15, 15, 15, 15, 15, 15, 15, 15, 15, 15, 15, 15, 15, 15, 15, 15, 15, 15, 15, 15, 15, 15, 15, 15, 15, 15, 15, 15, 15, 15, 15, 15, 15, 15, 15, 15, 15, 15, 15, 15, 15, 15, 15, 15, 15, 15, 15, 15, 15, 15, 15, 15, 15, 15, 15, 15, 15, 15, 15]\n"
     ]
    }
   ],
   "source": [
    "print(steps2)"
   ]
  },
  {
   "cell_type": "code",
   "execution_count": 161,
   "metadata": {
    "scrolled": true
   },
   "outputs": [
    {
     "name": "stdout",
     "output_type": "stream",
     "text": [
      "1     \n",
      "2     \n",
      "3     \n",
      "4     \n",
      "-----\n",
      "      \n",
      "2     \n",
      "3     \n",
      "4 1   \n",
      "-----\n",
      "      \n",
      "      \n",
      "3     \n",
      "4 1 2 \n",
      "-----\n",
      "      \n",
      "      \n",
      "3   1 \n",
      "4   2 \n",
      "-----\n",
      "      \n",
      "      \n",
      "    1 \n",
      "4 3 2 \n",
      "-----\n",
      "      \n",
      "      \n",
      "1     \n",
      "4 3 2 \n",
      "-----\n",
      "      \n",
      "      \n",
      "1 2   \n",
      "4 3   \n",
      "-----\n",
      "      \n",
      "  1   \n",
      "  2   \n",
      "4 3   \n",
      "-----\n",
      "      \n",
      "  1   \n",
      "  2   \n",
      "  3 4 \n",
      "-----\n",
      "      \n",
      "      \n",
      "  2 1 \n",
      "  3 4 \n",
      "-----\n",
      "      \n",
      "      \n",
      "    1 \n",
      "2 3 4 \n",
      "-----\n",
      "      \n",
      "      \n",
      "1     \n",
      "2 3 4 \n",
      "-----\n",
      "      \n",
      "      \n",
      "1   3 \n",
      "2   4 \n",
      "-----\n",
      "      \n",
      "      \n",
      "    3 \n",
      "2 1 4 \n",
      "-----\n",
      "      \n",
      "    2 \n",
      "    3 \n",
      "  1 4 \n",
      "-----\n",
      "    1 \n",
      "    2 \n",
      "    3 \n",
      "    4 \n",
      "-----\n"
     ]
    }
   ],
   "source": [
    "for s in path:\n",
    "    printState_4disk(s)"
   ]
  },
  {
   "cell_type": "markdown",
   "metadata": {},
   "source": [
    "Number of games: 20\n",
    "Learning rate: 0.5\n",
    "Epsilon decay: 0.7"
   ]
  },
  {
   "cell_type": "code",
   "execution_count": 172,
   "metadata": {
    "collapsed": true
   },
   "outputs": [],
   "source": [
    "Q2, steps2 = trainQ_4disk(20, 0.05, 0.7, validMoves_4disk, makeMove_4disk)"
   ]
  },
  {
   "cell_type": "code",
   "execution_count": 173,
   "metadata": {},
   "outputs": [
    {
     "name": "stdout",
     "output_type": "stream",
     "text": [
      "[321, 617, 272, 744, 88, 387, 677, 238, 128, 348, 374, 197, 419, 66, 409, 187, 429, 149, 166, 273]\n"
     ]
    }
   ],
   "source": [
    "print(steps2)"
   ]
  },
  {
   "cell_type": "code",
   "execution_count": 174,
   "metadata": {
    "collapsed": true
   },
   "outputs": [],
   "source": [
    "Q2, steps2 = trainQ_4disk(200, 0.05, 0.7, validMoves_4disk, makeMove_4disk)"
   ]
  },
  {
   "cell_type": "code",
   "execution_count": 176,
   "metadata": {},
   "outputs": [
    {
     "name": "stdout",
     "output_type": "stream",
     "text": [
      "[185, 647, 640, 394, 288, 420, 551, 464, 111, 529, 74, 218, 322, 338, 201, 217, 265, 138, 509, 65, 269, 307, 51, 118, 258, 209, 97, 364, 105, 342, 82, 202, 106, 189, 234, 102, 269, 81, 129, 126, 242, 82, 92, 210, 210, 61, 218, 73, 192, 146, 62, 71, 302, 90, 283, 74, 25, 81, 174, 74, 117, 84, 224, 58, 46, 185, 85, 295, 48, 89, 127, 28, 159, 78, 212, 107, 172, 23, 62, 90, 156, 55, 146, 82, 145, 77, 84, 147, 61, 69, 153, 33, 100, 220, 22, 173, 43, 52, 105, 45, 207, 109, 27, 71, 60, 51, 158, 51, 95, 107, 28, 143, 81, 109, 60, 32, 160, 64, 44, 240, 45, 124, 35, 44, 62, 33, 183, 74, 26, 157, 49, 40, 96, 62, 39, 58, 83, 160, 35, 49, 127, 76, 34, 70, 72, 49, 141, 25, 63, 190, 32, 44, 151, 39, 32, 46, 35, 90, 59, 197, 46, 23, 37, 134, 25, 64, 41, 114, 34, 46, 36, 26, 147, 72, 97, 41, 53, 50, 97, 44, 29, 163, 45, 39, 87, 36, 48, 25, 27, 104, 54, 51, 136, 47, 25, 28, 107, 65, 60, 22]\n"
     ]
    }
   ],
   "source": [
    "print(steps2)"
   ]
  },
  {
   "cell_type": "code",
   "execution_count": 177,
   "metadata": {
    "collapsed": true
   },
   "outputs": [],
   "source": [
    "Q2, steps2 = trainQ_4disk(200, 0.5, 0.7, validMoves_4disk, makeMove_4disk)"
   ]
  },
  {
   "cell_type": "code",
   "execution_count": 178,
   "metadata": {},
   "outputs": [
    {
     "name": "stdout",
     "output_type": "stream",
     "text": [
      "[448, 184, 368, 270, 281, 47, 133, 122, 70, 51, 111, 35, 127, 35, 47, 119, 195, 32, 77, 109, 34, 24, 61, 55, 21, 63, 33, 75, 39, 64, 39, 22, 101, 24, 27, 18, 32, 33, 20, 34, 46, 20, 18, 16, 100, 58, 15, 17, 19, 24, 15, 15, 46, 15, 17, 44, 88, 15, 15, 18, 15, 15, 16, 15, 15, 15, 15, 15, 15, 15, 15, 15, 15, 15, 15, 15, 15, 15, 15, 15, 15, 15, 15, 15, 15, 15, 15, 15, 15, 15, 15, 15, 15, 15, 15, 15, 15, 15, 15, 15, 15, 15, 15, 15, 15, 15, 15, 15, 15, 15, 15, 15, 15, 15, 15, 15, 15, 15, 15, 15, 15, 15, 15, 15, 15, 15, 15, 15, 15, 15, 15, 15, 15, 15, 15, 15, 15, 15, 15, 15, 15, 15, 15, 15, 15, 15, 15, 15, 15, 15, 15, 15, 15, 15, 15, 15, 15, 15, 15, 15, 15, 15, 15, 15, 15, 15, 15, 15, 15, 15, 15, 15, 15, 15, 15, 15, 15, 15, 15, 15, 15, 15, 15, 15, 15, 15, 15, 15, 15, 15, 15, 15, 15, 15, 15, 15, 15, 15, 15, 15]\n"
     ]
    }
   ],
   "source": [
    "print(steps2)"
   ]
  },
  {
   "cell_type": "code",
   "execution_count": 179,
   "metadata": {
    "collapsed": true
   },
   "outputs": [],
   "source": [
    "Q2, steps2 = trainQ_4disk(200, 0.1, 0.7, validMoves_4disk, makeMove_4disk)"
   ]
  },
  {
   "cell_type": "code",
   "execution_count": 180,
   "metadata": {
    "scrolled": true
   },
   "outputs": [
    {
     "name": "stdout",
     "output_type": "stream",
     "text": [
      "[939, 181, 465, 383, 274, 308, 345, 391, 139, 92, 280, 208, 131, 257, 115, 135, 284, 78, 93, 232, 170, 85, 157, 173, 140, 238, 75, 123, 121, 69, 87, 191, 99, 201, 121, 84, 175, 32, 85, 66, 187, 37, 140, 110, 103, 70, 59, 194, 141, 40, 99, 27, 181, 65, 119, 31, 46, 75, 157, 72, 23, 76, 59, 146, 38, 209, 41, 74, 77, 44, 146, 47, 40, 45, 179, 28, 60, 34, 25, 86, 45, 43, 67, 150, 44, 57, 85, 34, 63, 49, 130, 35, 128, 58, 27, 54, 99, 19, 67, 139, 27, 26, 37, 90, 34, 37, 48, 104, 86, 33, 44, 27, 35, 147, 25, 21, 48, 29, 30, 53, 52, 18, 75, 35, 193, 30, 25, 36, 39, 92, 30, 26, 23, 87, 26, 25, 22, 82, 39, 25, 106, 27, 21, 36, 101, 31, 27, 34, 15, 92, 31, 21, 72, 37, 19, 20, 48, 27, 120, 32, 27, 18, 28, 47, 39, 103, 19, 24, 18, 56, 25, 27, 32, 16, 62, 19, 21, 32, 19, 98, 20, 29, 19, 43, 28, 20, 25, 97, 126, 16, 18, 17, 49, 27, 19, 20, 26, 19, 65, 15]\n"
     ]
    }
   ],
   "source": [
    "print(steps2)"
   ]
  },
  {
   "cell_type": "code",
   "execution_count": 201,
   "metadata": {
    "collapsed": true
   },
   "outputs": [],
   "source": [
    "Q2, steps2 = trainQ_4disk(100, 0.5, 0.7, validMoves_4disk, makeMove_4disk)"
   ]
  },
  {
   "cell_type": "code",
   "execution_count": 202,
   "metadata": {},
   "outputs": [
    {
     "name": "stdout",
     "output_type": "stream",
     "text": [
      "[537, 470, 75, 251, 141, 90, 102, 48, 34, 169, 61, 51, 135, 85, 60, 26, 72, 78, 41, 91, 43, 40, 135, 26, 103, 27, 44, 96, 35, 100, 40, 26, 26, 106, 29, 18, 78, 53, 18, 19, 21, 18, 61, 25, 18, 44, 24, 17, 30, 15, 16, 76, 66, 15, 15, 19, 15, 16, 16, 17, 15, 15, 46, 15, 15, 15, 15, 15, 15, 15, 17, 15, 15, 15, 15, 15, 15, 15, 15, 15, 15, 15, 15, 15, 15, 15, 15, 15, 15, 15, 15, 15, 15, 15, 15, 15, 15, 15, 15, 15]\n"
     ]
    }
   ],
   "source": [
    "print(steps2)"
   ]
  },
  {
   "cell_type": "markdown",
   "metadata": {},
   "source": [
    "100 games played, with a learning rate of 0.5 and decay of 0.7 seems to work well."
   ]
  },
  {
   "cell_type": "code",
   "execution_count": null,
   "metadata": {
    "collapsed": true
   },
   "outputs": [],
   "source": []
  }
 ],
 "metadata": {
  "kernelspec": {
   "display_name": "Python 3",
   "language": "python",
   "name": "python3"
  },
  "language_info": {
   "codemirror_mode": {
    "name": "ipython",
    "version": 3
   },
   "file_extension": ".py",
   "mimetype": "text/x-python",
   "name": "python",
   "nbconvert_exporter": "python",
   "pygments_lexer": "ipython3",
   "version": "3.7.6"
  }
 },
 "nbformat": 4,
 "nbformat_minor": 2
}
