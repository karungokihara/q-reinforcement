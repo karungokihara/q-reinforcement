{
 "cells": [
  {
   "cell_type": "markdown",
   "metadata": {},
   "source": [
    "# Reinforcement Learning Solution to the Towers of Hanoi Puzzle"
   ]
  },
  {
   "cell_type": "markdown",
   "metadata": {},
   "source": []
  },
  {
   "cell_type": "markdown",
   "metadata": {},
   "source": []
  },
  {
   "cell_type": "markdown",
   "metadata": {},
   "source": []
  },
  {
   "cell_type": "markdown",
   "metadata": {},
   "source": []
  },
  {
   "cell_type": "code",
   "execution_count": 5,
   "metadata": {
    "collapsed": true
   },
   "outputs": [],
   "source": [
    "# Function to represent the state (of the pegs)\n",
    "# state = [[1,2,3], [2,3,4], []]\n",
    "from copy import deepcopy\n",
    "def printState(state):\n",
    "    statenew = deepcopy(state)\n",
    "    for i in statenew:\n",
    "        if len(i) == 0:\n",
    "            i.insert(0, ' ')\n",
    "            i.insert(0, ' ')\n",
    "            i.insert(0, ' ')\n",
    "        elif len(i) == 1:\n",
    "            i.insert(0, ' ')\n",
    "            i.insert(0, ' ')\n",
    "        elif len(i) == 2:\n",
    "            i.insert(0, ' ')\n",
    "\n",
    "    for i in list(zip(*statenew)):\n",
    "        for j in i:\n",
    "            print(j, end=' ')\n",
    "        print()\n",
    "    print('-----')"
   ]
  },
  {
   "cell_type": "code",
   "execution_count": 6,
   "metadata": {
    "collapsed": true
   },
   "outputs": [],
   "source": [
    "# Function which returns valid moves from a state\n",
    "def validMoves(state):\n",
    "    valid = []\n",
    "    for i in range(3):\n",
    "        if state[i] == []:\n",
    "            continue\n",
    "        for j in range(3):\n",
    "            if state[i] != state[j]:\n",
    "                # Check if j is empty. If yes, then insert [i,j].\n",
    "                if len(state[j]) == 0:\n",
    "                    valid.append([i+1,j+1])\n",
    "                # Else, check if disc in peg j is greater than disc in peg i. If yes, then insert.\n",
    "                else:\n",
    "                    if state[j][0] > state[i][0]:\n",
    "                        valid.append([i+1,j+1])\n",
    "    return valid"
   ]
  },
  {
   "cell_type": "code",
   "execution_count": 7,
   "metadata": {
    "collapsed": true
   },
   "outputs": [],
   "source": [
    "# Function to apply a move to a state and return the new state.\n",
    "def makeMove(state, move):\n",
    "    if move != None:\n",
    "        state2 = deepcopy(state)\n",
    "        # Get the pegs from and to which the moves are to be done.\n",
    "        source = move[0]\n",
    "        dest = move[1]\n",
    "        # Get the disk from source\n",
    "        disk = state2[source - 1][0]\n",
    "        # Remove from source\n",
    "        state2[source-1].remove(disk)\n",
    "        # Move disk to destination\n",
    "        state2[dest - 1].insert(0, disk)\n",
    "        return state2"
   ]
  },
  {
   "cell_type": "code",
   "execution_count": 8,
   "metadata": {
    "collapsed": true
   },
   "outputs": [],
   "source": [
    "# Function to check if the goal state has been reached.\n",
    "def isGoalState(state):\n",
    "    if state == [[], [], [1,2,3]]:\n",
    "        return True\n",
    "    else:\n",
    "        return False"
   ]
  },
  {
   "cell_type": "code",
   "execution_count": 9,
   "metadata": {
    "collapsed": true
   },
   "outputs": [],
   "source": [
    "# Function which converts lists to tuples.\n",
    "def stateMoveTuple(state, move):\n",
    "    stateTuple = tuple(tuple(x) for x in state)\n",
    "    moveTuple = tuple(move)\n",
    "    stateMoveTuple = (stateTuple, moveTuple)\n",
    "    return stateMoveTuple"
   ]
  },
  {
   "cell_type": "code",
   "execution_count": 10,
   "metadata": {
    "collapsed": true
   },
   "outputs": [],
   "source": [
    "import random\n",
    "# Epsilon Greedy\n",
    "def epsilonGreedy(epsilon, Q, state):\n",
    "    valid = validMoves(state)\n",
    "    qlist = []\n",
    "    if np.random.uniform() < epsilon:\n",
    "        # Random Move\n",
    "        return random.choice(valid)\n",
    "    else:\n",
    "        # Greedy Move - get action for which the Q value is maximum.\n",
    "        # Get Q values for all (state, move) pairs and store in a list.\n",
    "        for move in valid:\n",
    "            smt = stateMoveTuple(state, move)\n",
    "            Qval = Q.get(smt, -1) # Assign -1 if not in tuple (default Q value)\n",
    "            qlist.append((Qval, move))\n",
    "        maxMove = max(qlist, key=lambda x:x[0])\n",
    "        return maxMove[1]"
   ]
  },
  {
   "cell_type": "code",
   "execution_count": 25,
   "metadata": {
    "collapsed": true
   },
   "outputs": [],
   "source": [
    "import numpy as np\n",
    "# Function for training Q for Towers of Hanoi.\n",
    "def trainQ(nRepetitions, learningRate, epsilonDecayFactor, validMovesF, makeMoveF):\n",
    "    epsilon = 1.0\n",
    "    Q = {}\n",
    "    stepsToGoal = []\n",
    "    for nGames in range(nRepetitions):\n",
    "        # Decay epsilon\n",
    "        epsilon *= epsilonDecayFactor\n",
    "\n",
    "        # Start state for ToH\n",
    "        s = [[1,2,3], [], []]\n",
    "\n",
    "        # Play a game till solution occurs for ToH.\n",
    "        done = False\n",
    "        step = 0\n",
    "        while not done:        \n",
    "            step += 1\n",
    "\n",
    "\n",
    "            # Choose a move.\n",
    "            move = epsilonGreedy(epsilon, Q, s)\n",
    "\n",
    "\n",
    "            # Apply the move on a copy of state.\n",
    "            sNew = deepcopy(s)\n",
    "            sNew = makeMoveF(sNew, move)\n",
    "\n",
    "            if stateMoveTuple(s, move) not in Q:\n",
    "                Q[stateMoveTuple(s, move)] = -1  # initial Q value for new board,move\n",
    "\n",
    "            # If the goal state is reached, then update Q(s, move) += rho*(0 - Q(s, move)) and break game (inner loop).\n",
    "\n",
    "            if isGoalState(sNew):\n",
    "                Q[stateMoveTuple(s, move)] = -1\n",
    "                done = True\n",
    "\n",
    "            else:\n",
    "                if step > 1:\n",
    "                    Q[stateMoveTuple(sOld,moveOld)] += learningRate * (-1 + Q[stateMoveTuple(s,move)] - Q[stateMoveTuple(sOld,moveOld)])\n",
    "                sOld, moveOld = s, move # remember board and move to Q(board,move) can be updated after next steps\n",
    "                s = sNew\n",
    "        stepsToGoal.append(step)\n",
    "\n",
    "    return Q, stepsToGoal"
   ]
  },
  {
   "cell_type": "code",
   "execution_count": 26,
   "metadata": {
    "collapsed": true
   },
   "outputs": [],
   "source": [
    "# Function testQ\n",
    "def testQ(Q, maxSteps, validMovesF, makeMoveF):\n",
    "    path = []\n",
    "    s = [[1,2,3], [], []]\n",
    "    path.append(s)\n",
    "    print()\n",
    "    steps = 0\n",
    "    flag = 0\n",
    "    while steps < maxSteps:        \n",
    "        # Choose greedy move.\n",
    "        move = epsilonGreedy(-1, Q, s)\n",
    "\n",
    "        # Apply the move on the state.\n",
    "        s = makeMoveF(s, move)\n",
    "        path.append(s)\n",
    "\n",
    "        # If the goal state is reached.\n",
    "        if isGoalState(s):\n",
    "            flag = 1\n",
    "            break\n",
    "        steps += 1\n",
    "    if flag == 0:\n",
    "        return \"No goal found.\"\n",
    "    return path"
   ]
  },
  {
   "cell_type": "markdown",
   "metadata": {},
   "source": [
    "# Examples"
   ]
  },
  {
   "cell_type": "code",
   "execution_count": 27,
   "metadata": {},
   "outputs": [
    {
     "name": "stdout",
     "output_type": "stream",
     "text": [
      "1     \n",
      "2     \n",
      "3     \n",
      "-----\n"
     ]
    }
   ],
   "source": [
    "state = [[1, 2, 3], [], []]\n",
    "printState(state)"
   ]
  },
  {
   "cell_type": "code",
   "execution_count": 28,
   "metadata": {},
   "outputs": [
    {
     "data": {
      "text/plain": [
       "(((1, 2, 3), (), ()), (1, 2))"
      ]
     },
     "execution_count": 28,
     "metadata": {},
     "output_type": "execute_result"
    }
   ],
   "source": [
    "move =[1, 2]\n",
    "\n",
    "stateMoveTuple(state, move)"
   ]
  },
  {
   "cell_type": "code",
   "execution_count": 29,
   "metadata": {},
   "outputs": [
    {
     "data": {
      "text/plain": [
       "[[2, 3], [1], []]"
      ]
     },
     "execution_count": 29,
     "metadata": {},
     "output_type": "execute_result"
    }
   ],
   "source": [
    "newstate = makeMove(state, move)\n",
    "newstate"
   ]
  },
  {
   "cell_type": "code",
   "execution_count": 30,
   "metadata": {},
   "outputs": [
    {
     "name": "stdout",
     "output_type": "stream",
     "text": [
      "      \n",
      "2     \n",
      "3 1   \n",
      "-----\n"
     ]
    }
   ],
   "source": [
    "printState(newstate)"
   ]
  },
  {
   "cell_type": "code",
   "execution_count": 31,
   "metadata": {
    "collapsed": true
   },
   "outputs": [],
   "source": [
    "Q, stepsToGoal = trainQ(50, 0.5, 0.7, validMoves, makeMove)"
   ]
  },
  {
   "cell_type": "code",
   "execution_count": 33,
   "metadata": {},
   "outputs": [
    {
     "name": "stdout",
     "output_type": "stream",
     "text": [
      "[32, 96, 121, 33, 39, 40, 27, 45, 28, 22, 14, 7, 27, 10, 13, 9, 7, 10, 7, 7, 7, 7, 7, 7, 7, 7, 7, 7, 7, 7, 7, 7, 7, 7, 7, 7, 7, 7, 7, 7, 7, 7, 7, 7, 7, 7, 7, 7, 7, 7]\n"
     ]
    }
   ],
   "source": [
    "print(stepsToGoal)"
   ]
  },
  {
   "cell_type": "code",
   "execution_count": 34,
   "metadata": {},
   "outputs": [
    {
     "data": {
      "image/png": "[encoded data removed]",
      "text/plain": [
       "<matplotlib.figure.Figure at 0x6193f50>"
      ]
     },
     "metadata": {},
     "output_type": "display_data"
    }
   ],
   "source": [
    "import matplotlib.pyplot as plt\n",
    "plt.plot(stepsToGoal)\n",
    "plt.show()"
   ]
  },
  {
   "cell_type": "code",
   "execution_count": 35,
   "metadata": {},
   "outputs": [
    {
     "name": "stdout",
     "output_type": "stream",
     "text": [
      "\n"
     ]
    }
   ],
   "source": [
    "path = testQ(Q, 20, validMoves, makeMove)"
   ]
  },
  {
   "cell_type": "code",
   "execution_count": 36,
   "metadata": {},
   "outputs": [
    {
     "data": {
      "text/plain": [
       "[[[1, 2, 3], [], []],\n",
       " [[2, 3], [], [1]],\n",
       " [[3], [2], [1]],\n",
       " [[3], [1, 2], []],\n",
       " [[], [1, 2], [3]],\n",
       " [[1], [2], [3]],\n",
       " [[1], [], [2, 3]],\n",
       " [[], [], [1, 2, 3]]]"
      ]
     },
     "execution_count": 36,
     "metadata": {},
     "output_type": "execute_result"
    }
   ],
   "source": [
    "path"
   ]
  },
  {
   "cell_type": "code",
   "execution_count": 37,
   "metadata": {},
   "outputs": [
    {
     "name": "stdout",
     "output_type": "stream",
     "text": [
      "1     \n",
      "2     \n",
      "3     \n",
      "-----\n",
      "\n",
      "      \n",
      "2     \n",
      "3   1 \n",
      "-----\n",
      "\n",
      "      \n",
      "      \n",
      "3 2 1 \n",
      "-----\n",
      "\n",
      "      \n",
      "  1   \n",
      "3 2   \n",
      "-----\n",
      "\n",
      "      \n",
      "  1   \n",
      "  2 3 \n",
      "-----\n",
      "\n",
      "      \n",
      "      \n",
      "1 2 3 \n",
      "-----\n",
      "\n",
      "      \n",
      "    2 \n",
      "1   3 \n",
      "-----\n",
      "\n",
      "    1 \n",
      "    2 \n",
      "    3 \n",
      "-----\n",
      "\n"
     ]
    }
   ],
   "source": [
    "for s in path:\n",
    "    printState(s)\n",
    "    print()"
   ]
  },
  {
   "cell_type": "markdown",
   "metadata": {},
   "source": [
    "## Grading"
   ]
  },
  {
   "cell_type": "markdown",
   "metadata": {
    "collapsed": true
   },
   "source": [
    "Download and extract `A5grader.py` from [A5grader.tar](http://www.cs.colostate.edu/~anderson/cs440/notebooks/A5grader.tar)."
   ]
  },
  {
   "cell_type": "code",
   "execution_count": 23,
   "metadata": {
    "scrolled": true
   },
   "outputs": [
    {
     "name": "stdout",
     "output_type": "stream",
     "text": [
      "\n",
      "Testing validMoves([[1], [2], [3]])\n",
      "\n",
      "--- 10/10 points. Correctly returned [[1, 2], [1, 3], [2, 3]]\n",
      "\n",
      "Testing validMoves([[], [], [1, 2, 3]])\n",
      "\n",
      "--- 10/10 points. Correctly returned [[3, 1], [3, 2]]\n",
      "\n",
      "Testing makeMove([[], [], [1, 2, 3]], [3, 2])\n",
      "\n",
      "--- 10/10 points. Correctly returned [[], [1], [2, 3]]\n",
      "\n",
      "Testing makeMove([[2], [3], [1]], [1, 2])\n",
      "\n",
      "--- 10/10 points. Correctly returned [[], [2, 3], [1]]\n",
      "\n",
      "Testing   Q, steps = trainQ(1000, 0.5, 0.7, validMoves, makeMove).\n",
      "\n",
      "--- 10/10 points. Q dictionary has correct number of entries.\n",
      "\n",
      "--- 10/10 points. The mean of the number of steps is 7.394 which is correct.\n",
      "\n",
      "Testing   path = testQ(Q, 20, validMoves, makeMove).\n",
      "\n",
      "\n",
      "--- 20/20 points. Correctly returns path of length 8, less than 10.\n",
      "\n",
      "C:\\Users\\Vignesh\\Documents\\Colorado State University\\Courses\\CS440 - Introduction to Artificial Intelligence - Chuck Anderson\\Assignments Execution Grade is 80/80\n",
      "\n",
      " Remaining 20 points will be based on your text describing the trainQ and test! functions.\n",
      "\n",
      "C:\\Users\\Vignesh\\Documents\\Colorado State University\\Courses\\CS440 - Introduction to Artificial Intelligence - Chuck Anderson\\Assignments FINAL GRADE is __/100\n"
     ]
    }
   ],
   "source": [
    "%run -i A5grader.py"
   ]
  },
  {
   "cell_type": "markdown",
   "metadata": {},
   "source": [
    "## Extra Credit"
   ]
  },
  {
   "cell_type": "markdown",
   "metadata": {},
   "source": [
    "Modify your code to solve the Towers of Hanoi puzzle with 4 disks instead of 3.  Name your functions\n",
    "\n",
    "    - printState_4disk\n",
    "    - validMoves_4disk\n",
    "    - makeMove_4disk\n",
    "\n",
    "Find values for number of repetitions, learning rate, and epsilon decay factor for which trainQ learns a Q function that testQ can use to find the shortest solution path.  Include the output from the successful calls to trainQ and testQ."
   ]
  },
  {
   "cell_type": "code",
   "execution_count": 24,
   "metadata": {
    "collapsed": true
   },
   "outputs": [],
   "source": [
    "# Function to represent the state (of the pegs)\n",
    "# state = [[1,2,3,4], [], []]\n",
    "from copy import deepcopy\n",
    "def printState_4disk(state):\n",
    "\tstatenew = deepcopy(state)\n",
    "\tfor i in statenew:\n",
    "\t\tif len(i) == 0:\n",
    "\t\t\ti.insert(0, ' ')\n",
    "\t\t\ti.insert(0, ' ')\n",
    "\t\t\ti.insert(0, ' ')\n",
    "\t\t\ti.insert(0, ' ')\n",
    "\t\telif len(i) == 1:\n",
    "\t\t\ti.insert(0, ' ')\n",
    "\t\t\ti.insert(0, ' ')\n",
    "\t\t\ti.insert(0, ' ')\n",
    "\t\telif len(i) == 2:\n",
    "\t\t\ti.insert(0, ' ')\n",
    "\t\t\ti.insert(0, ' ')\n",
    "\t\telif len(i) == 3:\n",
    "\t\t\ti.insert(0, ' ')\n",
    "\n",
    "\tfor i in list(zip(*statenew)):\n",
    "\t\tfor j in i:\n",
    "\t\t\tprint(j, end=' ')\n",
    "\t\tprint()\n",
    "\tprint('-----')\n",
    "\n",
    "# Function which returns valid moves from a state\n",
    "def validMoves_4disk(state):\n",
    "\tvalid = []\n",
    "\tfor i in range(3):\n",
    "\t\tif state[i] == []:\n",
    "\t\t\tcontinue\n",
    "\t\tfor j in range(3):\n",
    "\t\t\tif state[i] != state[j]:\n",
    "\t\t\t\t# Check if j is empty. If yes, then insert [i,j].\n",
    "\t\t\t\tif len(state[j]) == 0:\n",
    "\t\t\t\t\tvalid.append([i+1,j+1])\n",
    "\t\t\t\t# Else, check if disc in peg j is greater than disc in peg i. If yes, then insert.\n",
    "\t\t\t\telse:\n",
    "\t\t\t\t\tif state[j][0] > state[i][0]:\n",
    "\t\t\t\t\t\tvalid.append([i+1,j+1])\n",
    "\treturn valid\n",
    "\n",
    "# Function to apply a move to a state and return the new state.\n",
    "def makeMove_4disk(state, move):\n",
    "\tif move != None:\n",
    "\t\tstate2 = deepcopy(state)\n",
    "\t\t# Get the pegs from and to which the moves are to be done.\n",
    "\t\tsource = move[0]\n",
    "\t\tdest = move[1]\n",
    "\t\t# Get the disk from source\n",
    "\t\tdisk = state2[source - 1][0]\n",
    "\t\t# Remove from source\n",
    "\t\tstate2[source-1].remove(disk)\n",
    "\t\t# Move disk to destination\n",
    "\t\tstate2[dest - 1].insert(0, disk)\n",
    "\t\treturn state2\n",
    "\n",
    "# Function to check if the goal state has been reached.\n",
    "def isGoalState_4disk(state):\n",
    "\tif state == [[], [], [1,2,3,4]]:\n",
    "\t\treturn True\n",
    "\telse:\n",
    "\t\treturn False\n",
    "\n",
    "# Function which converts lists to tuples.\n",
    "def stateMoveTuple(state, move):\n",
    "\tstateTuple = tuple(tuple(x) for x in state)\n",
    "\tmoveTuple = tuple(move)\n",
    "\tstateMoveTuple = (stateTuple, moveTuple)\n",
    "\treturn stateMoveTuple\n",
    "\n",
    "import pprint\n",
    "import random\n",
    "# Epsilon Greedy\n",
    "def epsilonGreedy_4disk(epsilon, Q, state):\n",
    "    valid = validMoves_4disk(state)\n",
    "    qlist = []\n",
    "    if np.random.uniform() < epsilon:\n",
    "            return random.choice(valid)\n",
    "    else:\n",
    "        # Greedy Move - get action for which the Q value is maximum.\n",
    "        # Get Q values for all (state, move) pairs and store in a list.\n",
    "        for move in valid:\n",
    "        \tsmt = stateMoveTuple(state, move)\n",
    "        \tQval = Q.get(smt, -1)\n",
    "        \tqlist.append((Qval, move))\n",
    "        maxMove = max(qlist, key=lambda x:x[0])\n",
    "        return maxMove[1]\n",
    "\n",
    "# Function testQ\n",
    "# Function testQ\n",
    "def testQ(Q, maxSteps, validMovesF, makeMoveF):\n",
    "    path = []\n",
    "    s = [[1,2,3,4], [], []]\n",
    "    path.append(s)\n",
    "    print()\n",
    "    steps = 0\n",
    "    flag = 0\n",
    "    while steps < maxSteps:        \n",
    "        # Choose greedy move.\n",
    "        move = epsilonGreedy_4disk(-1, Q, s)\n",
    "\n",
    "        # Apply the move on the state.\n",
    "        s = makeMoveF(s, move)\n",
    "        path.append(s)\n",
    "\n",
    "        # If the goal state is reached.\n",
    "        if isGoalState_4disk(s):\n",
    "            flag = 1\n",
    "            break\n",
    "        steps += 1\n",
    "    if flag == 0:\n",
    "        return \"No goal found.\"\n",
    "    return path\n",
    "\n",
    "\n",
    "import numpy as np\n",
    "\n",
    "# Function for training Q for Towers of Hanoi.\n",
    "def trainQ(nRepetitions, learningRate, epsilonDecayFactor, validMovesF, makeMoveF):\n",
    "\tepsilon = 1.0\n",
    "\tQ = {}\n",
    "\tstepsToGoal = []\n",
    "\tfor nGames in range(nRepetitions):\n",
    "\t    # Decay epsilon\n",
    "\t    epsilon *= epsilonDecayFactor\n",
    "\n",
    "\t    # Start state for ToH\n",
    "\t    s = [[1,2,3,4], [], []]\n",
    "\n",
    "\t    # Play a game till solution occurs for ToH.\n",
    "\t    done = False\n",
    "\t    step = 0\n",
    "\t    while not done:        \n",
    "\t        step += 1\n",
    "\n",
    "\t        # Choose a move.\n",
    "\t        move = epsilonGreedy_4disk(epsilon, Q, s)\n",
    "\n",
    "\t        # Apply the move on a copy of state.\n",
    "\t        sNew = deepcopy(s)\n",
    "\t        sNew = makeMoveF(sNew, move)\n",
    "\n",
    "\t        if stateMoveTuple(s, move) not in Q:\n",
    "\t            Q[stateMoveTuple(s, move)] = -1  # initial Q value for new board,move\n",
    "\n",
    "            # If the goal state is reached, then update Q(s, move) += rho*(0 - Q(s, move)) and break game (inner loop).\n",
    "\t            \n",
    "\t        if isGoalState_4disk(sNew):\n",
    "\t            Q[stateMoveTuple(s, move)] = -1\n",
    "\t            done = True\n",
    "\t            \n",
    "\t        else:\n",
    "\t            if step > 1:\n",
    "\t                Q[stateMoveTuple(sOld,moveOld)] += learningRate * (-1 + Q[stateMoveTuple(s,move)] - Q[stateMoveTuple(sOld,moveOld)])\n",
    "\t            sOld, moveOld = s, move # remember board and move to Q(board,move) can be updated after next steps\n",
    "\t            s = sNew\n",
    "\t    stepsToGoal.append(step)\n",
    "\n",
    "\treturn Q, stepsToGoal\n",
    "\n",
    "\n",
    "import operator\n",
    "import pprint\n",
    "\n",
    "import os\n",
    "if __name__ == '__main__':\n",
    "\n",
    "\t#state = [[3,4], [1,2], []]\n",
    "\t#printState_4disk(state)\t\n",
    "\t#print(validMoves_4disk(state))\n",
    "\t#st = makeMove_4disk(state, [2,3])\n",
    "\t#printState_4disk(st)\n",
    "\n",
    "\tQ, steps = trainQ(50, 0.5, 0.7, validMoves_4disk, makeMove_4disk)\n",
    "\n",
    "\tprint(testQ(Q, 20, validMoves_4disk, makeMove_4disk))\n",
    "\t#sorted_x = sorted(Q.items(), key=operator.itemgetter(1))\n",
    "\t#pprint.pprint(sorted_x)\n",
    "\n"
   ]
  },
  {
   "cell_type": "code",
   "execution_count": null,
   "metadata": {
    "collapsed": true
   },
   "outputs": [],
   "source": []
  },
  {
   "cell_type": "code",
   "execution_count": null,
   "metadata": {
    "collapsed": true
   },
   "outputs": [],
   "source": []
  },
  {
   "cell_type": "code",
   "execution_count": null,
   "metadata": {
    "collapsed": true
   },
   "outputs": [],
   "source": []
  }
 ],
 "metadata": {
  "kernelspec": {
   "display_name": "Python 3",
   "language": "python",
   "name": "python3"
  },
  "language_info": {
   "codemirror_mode": {
    "name": "ipython",
    "version": 3
   },
   "file_extension": ".py",
   "mimetype": "text/x-python",
   "name": "python",
   "nbconvert_exporter": "python",
   "pygments_lexer": "ipython3",
   "version": "3.6.0"
  }
 },
 "nbformat": 4,
 "nbformat_minor": 2
}
